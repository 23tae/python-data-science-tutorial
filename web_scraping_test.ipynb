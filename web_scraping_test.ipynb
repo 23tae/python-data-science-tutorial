{
 "cells": [
  {
   "cell_type": "code",
   "execution_count": 1,
   "metadata": {},
   "outputs": [],
   "source": [
    "import os\n",
    "import requests\n",
    "from bs4 import BeautifulSoup\n",
    "from urllib.parse import urlparse, urljoin"
   ]
  },
  {
   "cell_type": "code",
   "execution_count": 8,
   "metadata": {},
   "outputs": [],
   "source": [
    "def request_url(url):\n",
    "  response = requests.get(url)\n",
    "  if response.status_code == 200:\n",
    "      print('request success')\n",
    "      soup = BeautifulSoup(response.text, \"html.parser\")\n",
    "\n",
    "      # Find all image tags\n",
    "      img_tags = soup.find_all(\"img\")\n",
    "\n",
    "      for img_tag in img_tags:\n",
    "          print('img tag')\n",
    "          # Get the source URL of the image\n",
    "          img_url = img_tag.get(\"src\")\n",
    "\n",
    "          # Check if the URL is relative and convert it to an absolute URL\n",
    "          if img_url and not urlparse(img_url).scheme:\n",
    "              img_url = urljoin(url, img_url)\n",
    "\n",
    "          # Check if the image URL ends with n.png\n",
    "          if img_url.endswith(\"n.png\"):\n",
    "              # Extract the image name from the URL\n",
    "              img_name = os.path.basename(img_url)\n",
    "              # Send an HTTP GET request to the image URL\n",
    "              img_response = requests.get(img_url)\n",
    "              if img_response.status_code == 200:\n",
    "                  # Save the image to your local directory\n",
    "                  with open(img_name, \"wb\") as img_file:\n",
    "                      img_file.write(img_response.content)\n",
    "                  print(f\"Downloaded: {img_name}\")\n",
    "              else:\n",
    "                  print(f\"Failed to download: {img_url}\")\n",
    "\n",
    "  else:\n",
    "      print(\"Failed to fetch the webpage. Status code:\", response.status_code)"
   ]
  },
  {
   "cell_type": "code",
   "execution_count": 9,
   "metadata": {},
   "outputs": [
    {
     "name": "stdout",
     "output_type": "stream",
     "text": [
      "request success\n"
     ]
    }
   ],
   "source": [
    "# ids = ['245674', '245675', '247905', '251493', '255971']\n",
    "ids = ['245674']\n",
    "for id in ids:\n",
    "  url = f\"https://uclass.uos.ac.kr/local/ubdoc/?id={id}&tp=m&pg=ubfile\"\n",
    "  request_url(url)"
   ]
  },
  {
   "cell_type": "code",
   "execution_count": null,
   "metadata": {},
   "outputs": [],
   "source": []
  }
 ],
 "metadata": {
  "kernelspec": {
   "display_name": "base",
   "language": "python",
   "name": "python3"
  },
  "language_info": {
   "codemirror_mode": {
    "name": "ipython",
    "version": 3
   },
   "file_extension": ".py",
   "mimetype": "text/x-python",
   "name": "python",
   "nbconvert_exporter": "python",
   "pygments_lexer": "ipython3",
   "version": "3.11.5"
  }
 },
 "nbformat": 4,
 "nbformat_minor": 2
}
