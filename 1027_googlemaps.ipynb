{
 "cells": [
  {
   "cell_type": "code",
   "execution_count": 1,
   "metadata": {},
   "outputs": [],
   "source": [
    "import googlemaps"
   ]
  },
  {
   "cell_type": "code",
   "execution_count": 2,
   "metadata": {},
   "outputs": [
    {
     "data": {
      "text/plain": [
       "True"
      ]
     },
     "execution_count": 2,
     "metadata": {},
     "output_type": "execute_result"
    }
   ],
   "source": [
    "from dotenv import load_dotenv\n",
    "import os \n",
    "\n",
    "load_dotenv()"
   ]
  },
  {
   "cell_type": "code",
   "execution_count": 3,
   "metadata": {},
   "outputs": [],
   "source": [
    "my_key = os.getenv(\"GOOGLE_MAP_API_KEY\")"
   ]
  },
  {
   "cell_type": "code",
   "execution_count": 4,
   "metadata": {},
   "outputs": [],
   "source": [
    "maps = googlemaps.Client(key=my_key)"
   ]
  },
  {
   "cell_type": "code",
   "execution_count": 14,
   "metadata": {},
   "outputs": [
    {
     "data": {
      "text/plain": [
       "[{'address_components': [{'long_name': '매봉산로',\n",
       "    'short_name': '매봉산로',\n",
       "    'types': ['political', 'sublocality', 'sublocality_level_4']},\n",
       "   {'long_name': '마포구',\n",
       "    'short_name': '마포구',\n",
       "    'types': ['political', 'sublocality', 'sublocality_level_1']},\n",
       "   {'long_name': '서울특별시',\n",
       "    'short_name': '서울특별시',\n",
       "    'types': ['administrative_area_level_1', 'political']},\n",
       "   {'long_name': '대한민국',\n",
       "    'short_name': 'KR',\n",
       "    'types': ['country', 'political']}],\n",
       "  'formatted_address': '대한민국 서울특별시 마포구 매봉산로 31',\n",
       "  'geometry': {'location': {'lat': 37.5756836, 'lng': 126.8902762},\n",
       "   'location_type': 'ROOFTOP',\n",
       "   'viewport': {'northeast': {'lat': 37.5770325802915,\n",
       "     'lng': 126.8916251802915},\n",
       "    'southwest': {'lat': 37.5743346197085, 'lng': 126.8889272197085}}},\n",
       "  'partial_match': True,\n",
       "  'place_id': 'ChIJJUiCWhOZfDUReQm7XrC77Rc',\n",
       "  'plus_code': {'compound_code': 'HVGR+74 대한민국 서울특별시',\n",
       "   'global_code': '8Q98HVGR+74'},\n",
       "  'types': ['establishment', 'local_government_office', 'point_of_interest']}]"
      ]
     },
     "execution_count": 14,
     "metadata": {},
     "output_type": "execute_result"
    }
   ],
   "source": [
    "geocode_result = maps.geocode([\"서울시 빅데이터 캠퍼스\", \"서울특별시 마포구 매봉산로 31\"], language=\"ko\")\n",
    "geocode_result"
   ]
  },
  {
   "cell_type": "code",
   "execution_count": 17,
   "metadata": {},
   "outputs": [
    {
     "data": {
      "text/plain": [
       "{'location': {'lat': 37.5619717, 'lng': 127.0383953},\n",
       " 'location_type': 'ROOFTOP',\n",
       " 'viewport': {'northeast': {'lat': 37.5633206802915, 'lng': 127.0397442802915},\n",
       "  'southwest': {'lat': 37.5606227197085, 'lng': 127.0370463197085}}}"
      ]
     },
     "execution_count": 17,
     "metadata": {},
     "output_type": "execute_result"
    }
   ],
   "source": [
    "geo_location = maps.geocode([\"CGV 왕십리\", \"서울특별시 성동구 왕십리광장로 17 비트플렉스몰 5층\"], language=\"ko\")[0].get(\"geometry\")\n",
    "geo_location"
   ]
  },
  {
   "cell_type": "code",
   "execution_count": 18,
   "metadata": {},
   "outputs": [
    {
     "name": "stdout",
     "output_type": "stream",
     "text": [
      "lat :  37.5619717 lng :  127.0383953\n"
     ]
    }
   ],
   "source": [
    "lat = geo_location[\"location\"][\"lat\"]\n",
    "lng = geo_location[\"location\"][\"lng\"]\n",
    "print(\"lat : \", lat, \"lng : \", lng)"
   ]
  },
  {
   "cell_type": "code",
   "execution_count": 22,
   "metadata": {},
   "outputs": [],
   "source": [
    "from datetime import datetime\n",
    "\n",
    "now = datetime.now()"
   ]
  },
  {
   "cell_type": "code",
   "execution_count": 23,
   "metadata": {},
   "outputs": [],
   "source": [
    "directions_result = maps.directions(\"서울숭신초등학교\", \"CGV 왕십리\", mode=\"transit\", departure_time=now)"
   ]
  },
  {
   "cell_type": "code",
   "execution_count": 24,
   "metadata": {},
   "outputs": [
    {
     "data": {
      "text/plain": [
       "[{'bounds': {'northeast': {'lat': 37.5677035, 'lng': 127.0385526},\n",
       "   'southwest': {'lat': 37.561216, 'lng': 127.0277668}},\n",
       "  'copyrights': 'Map data ©2023 TMap Mobility',\n",
       "  'legs': [{'arrival_time': {'text': '4:37\\u202fPM',\n",
       "     'time_zone': 'Asia/Seoul',\n",
       "     'value': 1698392274},\n",
       "    'departure_time': {'text': '4:26\\u202fPM',\n",
       "     'time_zone': 'Asia/Seoul',\n",
       "     'value': 1698391606},\n",
       "    'distance': {'text': '1.5 km', 'value': 1453},\n",
       "    'duration': {'text': '11 mins', 'value': 668},\n",
       "    'end_address': 'South Korea, Seoul, Seongdong-gu, Wangsimnigwangjang-ro, 17 비트플렉스몰 5층',\n",
       "    'end_location': {'lat': 37.5620246, 'lng': 127.0382293},\n",
       "    'start_address': '161 Majang-ro, Hawangsimni-dong, Seongdong-gu, Seoul, South Korea',\n",
       "    'start_location': {'lat': 37.5677035, 'lng': 127.0277668},\n",
       "    'steps': [{'distance': {'text': '0.4 km', 'value': 407},\n",
       "      'duration': {'text': '7 mins', 'value': 434},\n",
       "      'end_location': {'lat': 37.564321, 'lng': 127.029463},\n",
       "      'html_instructions': 'Walk to Sangwangsimni',\n",
       "      'polyline': {'points': 'cmhdFqbifWnQ_GrAqA'},\n",
       "      'start_location': {'lat': 37.5677035, 'lng': 127.0277668},\n",
       "      'steps': [{'distance': {'text': '0.3 km', 'value': 348},\n",
       "        'duration': {'text': '6 mins', 'value': 349},\n",
       "        'end_location': {'lat': 37.564741, 'lng': 127.029053},\n",
       "        'polyline': {'points': 'cmhdFqbifWnQ_G'},\n",
       "        'start_location': {'lat': 37.5677035, 'lng': 127.0277668},\n",
       "        'travel_mode': 'WALKING'},\n",
       "       {'distance': {'text': '1 m', 'value': 0},\n",
       "        'duration': {'text': '1 min', 'value': 30},\n",
       "        'end_location': {'lat': 37.564741, 'lng': 127.029053},\n",
       "        'html_instructions': 'Take entrance <span class=\"location\">1</span>',\n",
       "        'polyline': {'points': 'szgdFqjifW'},\n",
       "        'start_location': {'lat': 37.564741, 'lng': 127.029053},\n",
       "        'travel_mode': 'WALKING'},\n",
       "       {'distance': {'text': '1 m', 'value': 0},\n",
       "        'duration': {'text': '1 min', 'value': 0},\n",
       "        'end_location': {'lat': 37.564741, 'lng': 127.029053},\n",
       "        'polyline': {'points': 'szgdFqjifW'},\n",
       "        'start_location': {'lat': 37.564741, 'lng': 127.029053},\n",
       "        'travel_mode': 'WALKING'},\n",
       "       {'distance': {'text': '1 m', 'value': 0},\n",
       "        'duration': {'text': '1 min', 'value': 0},\n",
       "        'end_location': {'lat': 37.564741, 'lng': 127.029053},\n",
       "        'polyline': {'points': 'szgdFqjifW'},\n",
       "        'start_location': {'lat': 37.564741, 'lng': 127.029053},\n",
       "        'travel_mode': 'WALKING'},\n",
       "       {'distance': {'text': '59 m', 'value': 59},\n",
       "        'duration': {'text': '1 min', 'value': 55},\n",
       "        'end_location': {'lat': 37.564321, 'lng': 127.029463},\n",
       "        'polyline': {'points': 'szgdFqjifWrAqA'},\n",
       "        'start_location': {'lat': 37.564741, 'lng': 127.029053},\n",
       "        'travel_mode': 'WALKING'}],\n",
       "      'travel_mode': 'WALKING'},\n",
       "     {'distance': {'text': '0.9 km', 'value': 934},\n",
       "      'duration': {'text': '2 mins', 'value': 120},\n",
       "      'end_location': {'lat': 37.561513, 'lng': 127.038544},\n",
       "      'html_instructions': 'Subway towards 211',\n",
       "      'polyline': {'points': '_xgdFcmifWNk@Pu@V{@To@Xw@^kAt@wBjBoFPe@\\\\m@Na@Xa@x@qAt@kAl@cA`@{@FQHWDQ@MBQBQB[?c@@Y?i@?c@AgAAiA?sCAmBu@@'},\n",
       "      'start_location': {'lat': 37.564321, 'lng': 127.029463},\n",
       "      'transit_details': {'arrival_stop': {'location': {'lat': 37.561513,\n",
       "         'lng': 127.038544},\n",
       "        'name': 'Wangsimni Station'},\n",
       "       'arrival_time': {'text': '4:36\\u202fPM',\n",
       "        'time_zone': 'Asia/Seoul',\n",
       "        'value': 1698392160},\n",
       "       'departure_stop': {'location': {'lat': 37.564321, 'lng': 127.029463},\n",
       "        'name': 'Sangwangsimni'},\n",
       "       'departure_time': {'text': '4:34\\u202fPM',\n",
       "        'time_zone': 'Asia/Seoul',\n",
       "        'value': 1698392040},\n",
       "       'headsign': '211',\n",
       "       'line': {'agencies': [{'name': 'Seoul Metro',\n",
       "          'url': 'http://www.seoulmetro.co.kr/'}],\n",
       "        'color': '#35b12b',\n",
       "        'name': '서울 지하철 2호선',\n",
       "        'short_name': '2호선',\n",
       "        'text_color': '#ffffff',\n",
       "        'vehicle': {'icon': '//maps.gstatic.com/mapfiles/transit/iw2/6/subway2.png',\n",
       "         'name': 'Subway',\n",
       "         'type': 'SUBWAY'}},\n",
       "       'num_stops': 1},\n",
       "      'travel_mode': 'TRANSIT'},\n",
       "     {'distance': {'text': '0.1 km', 'value': 112},\n",
       "      'duration': {'text': '2 mins', 'value': 114},\n",
       "      'end_location': {'lat': 37.5620246, 'lng': 127.0382293},\n",
       "      'html_instructions': 'Walk to South Korea, Seoul, Seongdong-gu, Wangsimnigwangjang-ro, 17 비트플렉스몰 5층',\n",
       "      'polyline': {'points': 'mfgdF{ekfW\\\\jAcCM'},\n",
       "      'start_location': {'lat': 37.561513, 'lng': 127.038544},\n",
       "      'steps': [{'distance': {'text': '1 m', 'value': 0},\n",
       "        'duration': {'text': '1 min', 'value': 0},\n",
       "        'end_location': {'lat': 37.561513, 'lng': 127.038544},\n",
       "        'polyline': {'points': 'mfgdF{ekfW'},\n",
       "        'start_location': {'lat': 37.561513, 'lng': 127.038544},\n",
       "        'travel_mode': 'WALKING'},\n",
       "       {'distance': {'text': '1 m', 'value': 0},\n",
       "        'duration': {'text': '1 min', 'value': 0},\n",
       "        'end_location': {'lat': 37.561513, 'lng': 127.038544},\n",
       "        'polyline': {'points': 'mfgdF{ekfW'},\n",
       "        'start_location': {'lat': 37.561513, 'lng': 127.038544},\n",
       "        'travel_mode': 'WALKING'},\n",
       "       {'distance': {'text': '1 m', 'value': 0},\n",
       "        'duration': {'text': '1 min', 'value': 0},\n",
       "        'end_location': {'lat': 37.561513, 'lng': 127.038544},\n",
       "        'polyline': {'points': 'mfgdF{ekfW'},\n",
       "        'start_location': {'lat': 37.561513, 'lng': 127.038544},\n",
       "        'travel_mode': 'WALKING'},\n",
       "       {'distance': {'text': '1 m', 'value': 0},\n",
       "        'duration': {'text': '1 min', 'value': 0},\n",
       "        'end_location': {'lat': 37.561513, 'lng': 127.038544},\n",
       "        'polyline': {'points': 'mfgdF{ekfW'},\n",
       "        'start_location': {'lat': 37.561513, 'lng': 127.038544},\n",
       "        'travel_mode': 'WALKING'},\n",
       "       {'distance': {'text': '38 m', 'value': 38},\n",
       "        'duration': {'text': '1 min', 'value': 39},\n",
       "        'end_location': {'lat': 37.561355, 'lng': 127.038158},\n",
       "        'html_instructions': 'Take exit <span class=\"location\">12</span>',\n",
       "        'polyline': {'points': 'mfgdF{ekfW\\\\jA'},\n",
       "        'start_location': {'lat': 37.561513, 'lng': 127.038544},\n",
       "        'travel_mode': 'WALKING'},\n",
       "       {'distance': {'text': '74 m', 'value': 74},\n",
       "        'duration': {'text': '1 min', 'value': 75},\n",
       "        'end_location': {'lat': 37.5620246, 'lng': 127.0382293},\n",
       "        'polyline': {'points': 'oegdFockfWcCM'},\n",
       "        'start_location': {'lat': 37.561355, 'lng': 127.038158},\n",
       "        'travel_mode': 'WALKING'}],\n",
       "      'travel_mode': 'WALKING'}],\n",
       "    'traffic_speed_entry': [],\n",
       "    'via_waypoint': []}],\n",
       "  'overview_polyline': {'points': 'cmhdFqbifWnQ_GrAqA`@aBl@kBzEkNn@sAh@cAnB}CnA_CXiAFc@B_A?oDA}EAmBu@@\\\\jAcCM'},\n",
       "  'summary': '',\n",
       "  'warnings': ['Walking directions are in beta. Use caution – This route may be missing sidewalks or pedestrian paths.'],\n",
       "  'waypoint_order': []}]"
      ]
     },
     "execution_count": 24,
     "metadata": {},
     "output_type": "execute_result"
    }
   ],
   "source": [
    "directions_result"
   ]
  },
  {
   "cell_type": "code",
   "execution_count": 26,
   "metadata": {},
   "outputs": [
    {
     "data": {
      "text/plain": [
       "{'arrival_time': {'text': '4:37\\u202fPM',\n",
       "  'time_zone': 'Asia/Seoul',\n",
       "  'value': 1698392274},\n",
       " 'departure_time': {'text': '4:26\\u202fPM',\n",
       "  'time_zone': 'Asia/Seoul',\n",
       "  'value': 1698391606},\n",
       " 'distance': {'text': '1.5 km', 'value': 1453},\n",
       " 'duration': {'text': '11 mins', 'value': 668},\n",
       " 'end_address': 'South Korea, Seoul, Seongdong-gu, Wangsimnigwangjang-ro, 17 비트플렉스몰 5층',\n",
       " 'end_location': {'lat': 37.5620246, 'lng': 127.0382293},\n",
       " 'start_address': '161 Majang-ro, Hawangsimni-dong, Seongdong-gu, Seoul, South Korea',\n",
       " 'start_location': {'lat': 37.5677035, 'lng': 127.0277668},\n",
       " 'steps': [{'distance': {'text': '0.4 km', 'value': 407},\n",
       "   'duration': {'text': '7 mins', 'value': 434},\n",
       "   'end_location': {'lat': 37.564321, 'lng': 127.029463},\n",
       "   'html_instructions': 'Walk to Sangwangsimni',\n",
       "   'polyline': {'points': 'cmhdFqbifWnQ_GrAqA'},\n",
       "   'start_location': {'lat': 37.5677035, 'lng': 127.0277668},\n",
       "   'steps': [{'distance': {'text': '0.3 km', 'value': 348},\n",
       "     'duration': {'text': '6 mins', 'value': 349},\n",
       "     'end_location': {'lat': 37.564741, 'lng': 127.029053},\n",
       "     'polyline': {'points': 'cmhdFqbifWnQ_G'},\n",
       "     'start_location': {'lat': 37.5677035, 'lng': 127.0277668},\n",
       "     'travel_mode': 'WALKING'},\n",
       "    {'distance': {'text': '1 m', 'value': 0},\n",
       "     'duration': {'text': '1 min', 'value': 30},\n",
       "     'end_location': {'lat': 37.564741, 'lng': 127.029053},\n",
       "     'html_instructions': 'Take entrance <span class=\"location\">1</span>',\n",
       "     'polyline': {'points': 'szgdFqjifW'},\n",
       "     'start_location': {'lat': 37.564741, 'lng': 127.029053},\n",
       "     'travel_mode': 'WALKING'},\n",
       "    {'distance': {'text': '1 m', 'value': 0},\n",
       "     'duration': {'text': '1 min', 'value': 0},\n",
       "     'end_location': {'lat': 37.564741, 'lng': 127.029053},\n",
       "     'polyline': {'points': 'szgdFqjifW'},\n",
       "     'start_location': {'lat': 37.564741, 'lng': 127.029053},\n",
       "     'travel_mode': 'WALKING'},\n",
       "    {'distance': {'text': '1 m', 'value': 0},\n",
       "     'duration': {'text': '1 min', 'value': 0},\n",
       "     'end_location': {'lat': 37.564741, 'lng': 127.029053},\n",
       "     'polyline': {'points': 'szgdFqjifW'},\n",
       "     'start_location': {'lat': 37.564741, 'lng': 127.029053},\n",
       "     'travel_mode': 'WALKING'},\n",
       "    {'distance': {'text': '59 m', 'value': 59},\n",
       "     'duration': {'text': '1 min', 'value': 55},\n",
       "     'end_location': {'lat': 37.564321, 'lng': 127.029463},\n",
       "     'polyline': {'points': 'szgdFqjifWrAqA'},\n",
       "     'start_location': {'lat': 37.564741, 'lng': 127.029053},\n",
       "     'travel_mode': 'WALKING'}],\n",
       "   'travel_mode': 'WALKING'},\n",
       "  {'distance': {'text': '0.9 km', 'value': 934},\n",
       "   'duration': {'text': '2 mins', 'value': 120},\n",
       "   'end_location': {'lat': 37.561513, 'lng': 127.038544},\n",
       "   'html_instructions': 'Subway towards 211',\n",
       "   'polyline': {'points': '_xgdFcmifWNk@Pu@V{@To@Xw@^kAt@wBjBoFPe@\\\\m@Na@Xa@x@qAt@kAl@cA`@{@FQHWDQ@MBQBQB[?c@@Y?i@?c@AgAAiA?sCAmBu@@'},\n",
       "   'start_location': {'lat': 37.564321, 'lng': 127.029463},\n",
       "   'transit_details': {'arrival_stop': {'location': {'lat': 37.561513,\n",
       "      'lng': 127.038544},\n",
       "     'name': 'Wangsimni Station'},\n",
       "    'arrival_time': {'text': '4:36\\u202fPM',\n",
       "     'time_zone': 'Asia/Seoul',\n",
       "     'value': 1698392160},\n",
       "    'departure_stop': {'location': {'lat': 37.564321, 'lng': 127.029463},\n",
       "     'name': 'Sangwangsimni'},\n",
       "    'departure_time': {'text': '4:34\\u202fPM',\n",
       "     'time_zone': 'Asia/Seoul',\n",
       "     'value': 1698392040},\n",
       "    'headsign': '211',\n",
       "    'line': {'agencies': [{'name': 'Seoul Metro',\n",
       "       'url': 'http://www.seoulmetro.co.kr/'}],\n",
       "     'color': '#35b12b',\n",
       "     'name': '서울 지하철 2호선',\n",
       "     'short_name': '2호선',\n",
       "     'text_color': '#ffffff',\n",
       "     'vehicle': {'icon': '//maps.gstatic.com/mapfiles/transit/iw2/6/subway2.png',\n",
       "      'name': 'Subway',\n",
       "      'type': 'SUBWAY'}},\n",
       "    'num_stops': 1},\n",
       "   'travel_mode': 'TRANSIT'},\n",
       "  {'distance': {'text': '0.1 km', 'value': 112},\n",
       "   'duration': {'text': '2 mins', 'value': 114},\n",
       "   'end_location': {'lat': 37.5620246, 'lng': 127.0382293},\n",
       "   'html_instructions': 'Walk to South Korea, Seoul, Seongdong-gu, Wangsimnigwangjang-ro, 17 비트플렉스몰 5층',\n",
       "   'polyline': {'points': 'mfgdF{ekfW\\\\jAcCM'},\n",
       "   'start_location': {'lat': 37.561513, 'lng': 127.038544},\n",
       "   'steps': [{'distance': {'text': '1 m', 'value': 0},\n",
       "     'duration': {'text': '1 min', 'value': 0},\n",
       "     'end_location': {'lat': 37.561513, 'lng': 127.038544},\n",
       "     'polyline': {'points': 'mfgdF{ekfW'},\n",
       "     'start_location': {'lat': 37.561513, 'lng': 127.038544},\n",
       "     'travel_mode': 'WALKING'},\n",
       "    {'distance': {'text': '1 m', 'value': 0},\n",
       "     'duration': {'text': '1 min', 'value': 0},\n",
       "     'end_location': {'lat': 37.561513, 'lng': 127.038544},\n",
       "     'polyline': {'points': 'mfgdF{ekfW'},\n",
       "     'start_location': {'lat': 37.561513, 'lng': 127.038544},\n",
       "     'travel_mode': 'WALKING'},\n",
       "    {'distance': {'text': '1 m', 'value': 0},\n",
       "     'duration': {'text': '1 min', 'value': 0},\n",
       "     'end_location': {'lat': 37.561513, 'lng': 127.038544},\n",
       "     'polyline': {'points': 'mfgdF{ekfW'},\n",
       "     'start_location': {'lat': 37.561513, 'lng': 127.038544},\n",
       "     'travel_mode': 'WALKING'},\n",
       "    {'distance': {'text': '1 m', 'value': 0},\n",
       "     'duration': {'text': '1 min', 'value': 0},\n",
       "     'end_location': {'lat': 37.561513, 'lng': 127.038544},\n",
       "     'polyline': {'points': 'mfgdF{ekfW'},\n",
       "     'start_location': {'lat': 37.561513, 'lng': 127.038544},\n",
       "     'travel_mode': 'WALKING'},\n",
       "    {'distance': {'text': '38 m', 'value': 38},\n",
       "     'duration': {'text': '1 min', 'value': 39},\n",
       "     'end_location': {'lat': 37.561355, 'lng': 127.038158},\n",
       "     'html_instructions': 'Take exit <span class=\"location\">12</span>',\n",
       "     'polyline': {'points': 'mfgdF{ekfW\\\\jA'},\n",
       "     'start_location': {'lat': 37.561513, 'lng': 127.038544},\n",
       "     'travel_mode': 'WALKING'},\n",
       "    {'distance': {'text': '74 m', 'value': 74},\n",
       "     'duration': {'text': '1 min', 'value': 75},\n",
       "     'end_location': {'lat': 37.5620246, 'lng': 127.0382293},\n",
       "     'polyline': {'points': 'oegdFockfWcCM'},\n",
       "     'start_location': {'lat': 37.561355, 'lng': 127.038158},\n",
       "     'travel_mode': 'WALKING'}],\n",
       "   'travel_mode': 'WALKING'}],\n",
       " 'traffic_speed_entry': [],\n",
       " 'via_waypoint': []}"
      ]
     },
     "execution_count": 26,
     "metadata": {},
     "output_type": "execute_result"
    }
   ],
   "source": [
    "directions_result[0][\"legs\"][0]"
   ]
  },
  {
   "cell_type": "code",
   "execution_count": null,
   "metadata": {},
   "outputs": [],
   "source": []
  }
 ],
 "metadata": {
  "kernelspec": {
   "display_name": "base",
   "language": "python",
   "name": "python3"
  },
  "language_info": {
   "codemirror_mode": {
    "name": "ipython",
    "version": 3
   },
   "file_extension": ".py",
   "mimetype": "text/x-python",
   "name": "python",
   "nbconvert_exporter": "python",
   "pygments_lexer": "ipython3",
   "version": "3.11.5"
  }
 },
 "nbformat": 4,
 "nbformat_minor": 2
}
