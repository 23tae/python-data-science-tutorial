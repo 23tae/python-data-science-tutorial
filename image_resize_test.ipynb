{
 "cells": [
  {
   "cell_type": "code",
   "execution_count": 1,
   "metadata": {},
   "outputs": [],
   "source": [
    "from PIL import Image\n",
    "import os"
   ]
  },
  {
   "cell_type": "code",
   "execution_count": 6,
   "metadata": {},
   "outputs": [],
   "source": [
    "input_directory = \"/testdir/2023\"\n",
    "output_directory = \"/testdir/2023_resized\""
   ]
  },
  {
   "cell_type": "code",
   "execution_count": 7,
   "metadata": {},
   "outputs": [],
   "source": [
    "if not os.path.exists(output_directory):\n",
    "    os.makedirs(output_directory)"
   ]
  },
  {
   "cell_type": "code",
   "execution_count": 8,
   "metadata": {},
   "outputs": [
    {
     "name": "stdout",
     "output_type": "stream",
     "text": [
      "Image resizing complete.\n"
     ]
    }
   ],
   "source": [
    "# Iterate through all files in the input directory\n",
    "for filename in os.listdir(input_directory):\n",
    "    if filename.endswith((\".jpg\", \".jpeg\", \".png\", \".gif\")):\n",
    "        # Open the image using Pillow\n",
    "        with Image.open(os.path.join(input_directory, filename)) as img:\n",
    "            # Calculate the new size (15% of the original size)\n",
    "            width, height = img.size\n",
    "            new_width = int(width * 0.15)\n",
    "            new_height = int(height * 0.15)\n",
    "            \n",
    "            # Resize the image\n",
    "            resized_img = img.resize((new_width, new_height))\n",
    "            \n",
    "            # Save the resized image to the output directory\n",
    "            resized_img.save(os.path.join(output_directory, filename))\n",
    "\n",
    "print(\"Image resizing complete.\")"
   ]
  },
  {
   "cell_type": "code",
   "execution_count": null,
   "metadata": {},
   "outputs": [],
   "source": []
  }
 ],
 "metadata": {
  "kernelspec": {
   "display_name": "base",
   "language": "python",
   "name": "python3"
  },
  "language_info": {
   "codemirror_mode": {
    "name": "ipython",
    "version": 3
   },
   "file_extension": ".py",
   "mimetype": "text/x-python",
   "name": "python",
   "nbconvert_exporter": "python",
   "pygments_lexer": "ipython3",
   "version": "3.11.5"
  }
 },
 "nbformat": 4,
 "nbformat_minor": 2
}
